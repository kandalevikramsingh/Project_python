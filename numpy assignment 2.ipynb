{
 "cells": [
  {
   "cell_type": "code",
   "execution_count": 1,
   "id": "344c5b95",
   "metadata": {},
   "outputs": [],
   "source": [
    "import numpy as np"
   ]
  },
  {
   "cell_type": "code",
   "execution_count": 9,
   "id": "8d92c33f",
   "metadata": {},
   "outputs": [
    {
     "data": {
      "text/plain": [
       "array([[0., 1., 2., 3., 4.],\n",
       "       [0., 1., 2., 3., 4.],\n",
       "       [0., 1., 2., 3., 4.],\n",
       "       [0., 1., 2., 3., 4.],\n",
       "       [0., 1., 2., 3., 4.]])"
      ]
     },
     "execution_count": 9,
     "metadata": {},
     "output_type": "execute_result"
    }
   ],
   "source": [
    "# Q.1)  Create a 5x5 matrix with row values ranging from 0 to 4\n",
    "\n",
    "a=np.zeros((5,5))\n",
    "a+= np.arange(5)\n",
    "a"
   ]
  },
  {
   "cell_type": "code",
   "execution_count": 10,
   "id": "3fc99df8",
   "metadata": {},
   "outputs": [
    {
     "data": {
      "text/plain": [
       "array([[ 0,  1,  2],\n",
       "       [ 3,  4,  5],\n",
       "       [ 6,  7,  8],\n",
       "       [ 9, 10, 11],\n",
       "       [12, 13, 14]])"
      ]
     },
     "execution_count": 10,
     "metadata": {},
     "output_type": "execute_result"
    }
   ],
   "source": [
    "# Q.2) Multiply a 5x3 matrix by a 3x2 matrix (real matrix product)\n",
    "\n",
    "b=np.arange(15).reshape(5,3)\n",
    "b"
   ]
  },
  {
   "cell_type": "code",
   "execution_count": 11,
   "id": "4b342cd8",
   "metadata": {},
   "outputs": [
    {
     "data": {
      "text/plain": [
       "array([[0, 1],\n",
       "       [2, 3],\n",
       "       [4, 5]])"
      ]
     },
     "execution_count": 11,
     "metadata": {},
     "output_type": "execute_result"
    }
   ],
   "source": [
    "c=np.arange(6).reshape(3,2)\n",
    "c"
   ]
  },
  {
   "cell_type": "code",
   "execution_count": 15,
   "id": "50fa75f8",
   "metadata": {},
   "outputs": [
    {
     "data": {
      "text/plain": [
       "2"
      ]
     },
     "execution_count": 15,
     "metadata": {},
     "output_type": "execute_result"
    }
   ],
   "source": [
    "d=np.dot(b, c)\n",
    "d.ndim"
   ]
  },
  {
   "cell_type": "code",
   "execution_count": 16,
   "id": "77220594",
   "metadata": {},
   "outputs": [
    {
     "name": "stdout",
     "output_type": "stream",
     "text": [
      "[[ 10  13]\n",
      " [ 28  40]\n",
      " [ 46  67]\n",
      " [ 64  94]\n",
      " [ 82 121]]\n"
     ]
    }
   ],
   "source": [
    "print(d)"
   ]
  },
  {
   "cell_type": "code",
   "execution_count": 18,
   "id": "e912258b",
   "metadata": {},
   "outputs": [
    {
     "data": {
      "text/plain": [
       "nan"
      ]
     },
     "execution_count": 18,
     "metadata": {},
     "output_type": "execute_result"
    }
   ],
   "source": [
    "# Q.3) What is the result of the following expression?\n",
    "x=0*np.nan\n",
    "x"
   ]
  },
  {
   "cell_type": "code",
   "execution_count": 19,
   "id": "929fe450",
   "metadata": {},
   "outputs": [
    {
     "data": {
      "text/plain": [
       "False"
      ]
     },
     "execution_count": 19,
     "metadata": {},
     "output_type": "execute_result"
    }
   ],
   "source": [
    "np.nan == np.nan"
   ]
  },
  {
   "cell_type": "code",
   "execution_count": 20,
   "id": "8e0c525e",
   "metadata": {},
   "outputs": [
    {
     "data": {
      "text/plain": [
       "False"
      ]
     },
     "execution_count": 20,
     "metadata": {},
     "output_type": "execute_result"
    }
   ],
   "source": [
    "np.inf > np.nan"
   ]
  },
  {
   "cell_type": "code",
   "execution_count": 21,
   "id": "a31839f5",
   "metadata": {},
   "outputs": [
    {
     "data": {
      "text/plain": [
       "nan"
      ]
     },
     "execution_count": 21,
     "metadata": {},
     "output_type": "execute_result"
    }
   ],
   "source": [
    "np.nan - np.nan"
   ]
  },
  {
   "cell_type": "code",
   "execution_count": 22,
   "id": "17093606",
   "metadata": {},
   "outputs": [
    {
     "data": {
      "text/plain": [
       "True"
      ]
     },
     "execution_count": 22,
     "metadata": {},
     "output_type": "execute_result"
    }
   ],
   "source": [
    "np.nan in set([np.nan])"
   ]
  },
  {
   "cell_type": "code",
   "execution_count": 23,
   "id": "d57dc441",
   "metadata": {},
   "outputs": [
    {
     "data": {
      "text/plain": [
       "False"
      ]
     },
     "execution_count": 23,
     "metadata": {},
     "output_type": "execute_result"
    }
   ],
   "source": [
    "0.3 == 3 * 0.1\n"
   ]
  },
  {
   "cell_type": "code",
   "execution_count": 37,
   "id": "2ae7dce1",
   "metadata": {},
   "outputs": [
    {
     "data": {
      "text/plain": [
       "array([[0.38660064, 0.60863439, 0.89823269, 0.88753945, 0.49464345,\n",
       "        0.19400641, 0.08900348, 0.29125124, 0.84296871, 0.09847795],\n",
       "       [0.23061038, 0.39494451, 0.30817463, 0.34953325, 0.88379615,\n",
       "        0.95664874, 0.49346275, 0.31992536, 0.76637404, 0.36001834],\n",
       "       [0.62069414, 0.27573784, 0.91952684, 0.73956879, 0.81302357,\n",
       "        0.17199671, 0.95083636, 0.28742371, 0.29373023, 0.66605251],\n",
       "       [0.33488751, 0.68987818, 0.35414609, 0.99257218, 0.17548677,\n",
       "        0.8209839 , 0.89744555, 0.54769223, 0.51666196, 0.79788365],\n",
       "       [0.35519705, 0.38616445, 0.17645692, 0.8671477 , 0.99097826,\n",
       "        0.96871696, 0.95707758, 0.72461095, 0.66277527, 0.68658931],\n",
       "       [0.293176  , 0.14442732, 0.85543882, 0.51723393, 0.59223037,\n",
       "        0.21374523, 0.02108789, 0.54629659, 0.43235656, 0.84719288],\n",
       "       [0.40799589, 0.24929538, 0.6503447 , 0.76587112, 0.82770306,\n",
       "        0.47233773, 0.59100288, 0.08311752, 0.37985207, 0.05322728],\n",
       "       [0.06058243, 0.49382278, 0.88208461, 0.87838431, 0.66145316,\n",
       "        0.57491116, 0.92242808, 0.50770334, 0.23535003, 0.12561637],\n",
       "       [0.47650567, 0.58201002, 0.5436167 , 0.56225452, 0.60641283,\n",
       "        0.61456175, 0.27741881, 0.13680085, 0.67131527, 0.61755353],\n",
       "       [0.6380579 , 0.31831603, 0.4103579 , 0.25486695, 0.66171214,\n",
       "        0.97394274, 0.77498495, 0.23995761, 0.37638774, 0.66158553]])"
      ]
     },
     "execution_count": 37,
     "metadata": {},
     "output_type": "execute_result"
    }
   ],
   "source": [
    "# Q.4) Create a 10x10 array with random values and find the minimum and maximum values\n",
    "\n",
    "s=np.random.random((10,10))\n",
    "s"
   ]
  },
  {
   "cell_type": "code",
   "execution_count": 31,
   "id": "92b4e87c",
   "metadata": {},
   "outputs": [],
   "source": [
    "smin= s.min()"
   ]
  },
  {
   "cell_type": "code",
   "execution_count": 32,
   "id": "9cc079f2",
   "metadata": {},
   "outputs": [],
   "source": [
    "smax=s.max()"
   ]
  },
  {
   "cell_type": "code",
   "execution_count": 33,
   "id": "ae618cbd",
   "metadata": {},
   "outputs": [
    {
     "data": {
      "text/plain": [
       "0.002228917186938739"
      ]
     },
     "execution_count": 33,
     "metadata": {},
     "output_type": "execute_result"
    }
   ],
   "source": [
    "smin"
   ]
  },
  {
   "cell_type": "code",
   "execution_count": 34,
   "id": "8a6287db",
   "metadata": {},
   "outputs": [
    {
     "data": {
      "text/plain": [
       "0.9942878519385894"
      ]
     },
     "execution_count": 34,
     "metadata": {},
     "output_type": "execute_result"
    }
   ],
   "source": [
    "smax"
   ]
  },
  {
   "cell_type": "code",
   "execution_count": 41,
   "id": "68bc59c6",
   "metadata": {},
   "outputs": [
    {
     "data": {
      "text/plain": [
       "array([[0, 0, 0, 0, 0, 0, 0, 0, 0, 0],\n",
       "       [0, 0, 0, 0, 0, 0, 0, 0, 0, 0],\n",
       "       [0, 0, 0, 0, 0, 0, 0, 0, 0, 0],\n",
       "       [0, 0, 0, 0, 0, 0, 0, 0, 0, 0],\n",
       "       [0, 0, 0, 0, 0, 0, 0, 0, 0, 0],\n",
       "       [0, 0, 0, 0, 0, 0, 0, 0, 0, 0],\n",
       "       [0, 0, 0, 0, 0, 0, 0, 0, 0, 0],\n",
       "       [0, 0, 0, 0, 0, 0, 0, 0, 0, 0],\n",
       "       [0, 0, 0, 0, 0, 0, 0, 0, 0, 0],\n",
       "       [0, 0, 0, 0, 0, 0, 0, 0, 0, 0]])"
      ]
     },
     "execution_count": 41,
     "metadata": {},
     "output_type": "execute_result"
    }
   ],
   "source": [
    "# Q.5) Create a null vector of size 10 but the fifth value which is 1\n",
    "\n",
    "k=np.zeros((10,10), dtype=int)\n",
    "k"
   ]
  },
  {
   "cell_type": "code",
   "execution_count": 42,
   "id": "d01dcdea",
   "metadata": {},
   "outputs": [],
   "source": [
    "k[4]=1"
   ]
  },
  {
   "cell_type": "code",
   "execution_count": 43,
   "id": "4276fcbc",
   "metadata": {},
   "outputs": [
    {
     "data": {
      "text/plain": [
       "array([[0, 0, 0, 0, 0, 0, 0, 0, 0, 0],\n",
       "       [0, 0, 0, 0, 0, 0, 0, 0, 0, 0],\n",
       "       [0, 0, 0, 0, 0, 0, 0, 0, 0, 0],\n",
       "       [0, 0, 0, 0, 0, 0, 0, 0, 0, 0],\n",
       "       [1, 1, 1, 1, 1, 1, 1, 1, 1, 1],\n",
       "       [0, 0, 0, 0, 0, 0, 0, 0, 0, 0],\n",
       "       [0, 0, 0, 0, 0, 0, 0, 0, 0, 0],\n",
       "       [0, 0, 0, 0, 0, 0, 0, 0, 0, 0],\n",
       "       [0, 0, 0, 0, 0, 0, 0, 0, 0, 0],\n",
       "       [0, 0, 0, 0, 0, 0, 0, 0, 0, 0]])"
      ]
     },
     "execution_count": 43,
     "metadata": {},
     "output_type": "execute_result"
    }
   ],
   "source": [
    "k"
   ]
  },
  {
   "cell_type": "code",
   "execution_count": null,
   "id": "3efa8e79",
   "metadata": {},
   "outputs": [],
   "source": []
  }
 ],
 "metadata": {
  "kernelspec": {
   "display_name": "Python 3 (ipykernel)",
   "language": "python",
   "name": "python3"
  },
  "language_info": {
   "codemirror_mode": {
    "name": "ipython",
    "version": 3
   },
   "file_extension": ".py",
   "mimetype": "text/x-python",
   "name": "python",
   "nbconvert_exporter": "python",
   "pygments_lexer": "ipython3",
   "version": "3.9.13"
  }
 },
 "nbformat": 4,
 "nbformat_minor": 5
}
