{
 "cells": [
  {
   "cell_type": "markdown",
   "id": "5e1ea6d2",
   "metadata": {},
   "source": [
    "# Project - Class "
   ]
  },
  {
   "cell_type": "markdown",
   "id": "2376599c",
   "metadata": {},
   "source": [
    "### PROBLEM STATEMENT:-\n",
    "        Create mobile functioning code using oops concept (inheritance,polymorphism, special init methods)\n",
    "                                                       "
   ]
  },
  {
   "cell_type": "code",
   "execution_count": 4,
   "id": "6f1689c7",
   "metadata": {},
   "outputs": [],
   "source": [
    "class MobileShop:\n",
    "    \n",
    "    def __init__(self,Model,size,color,material_cost):\n",
    "        self.Model= Model\n",
    "        self.size = size\n",
    "        self.color = color\n",
    "        self.material_cost = material_cost\n",
    "        \n",
    "        print(\"Deatails Of device\")\n",
    "\n",
    "            \n",
    "    def DeviceSpecs(self):\n",
    "        print(\"Model Name:\",self.Model)\n",
    "        print(\"Display size:\", self.size)\n",
    "        print(\"Color:\",self.color)\n",
    "        print(\"Price:\",self.material_cost)\n",
    "    \n",
    "    def msg(self):\n",
    "        print(\"Messaging..............\")\n",
    "    \n",
    "    def call(self):\n",
    "        print(\"Calling.............\")\n",
    "    \n",
    "    def play_games(self):\n",
    "        print(\"Playing Games............\")\n",
    "        \n"
   ]
  },
  {
   "cell_type": "code",
   "execution_count": 5,
   "id": "e3da3222",
   "metadata": {},
   "outputs": [
    {
     "name": "stdout",
     "output_type": "stream",
     "text": [
      "Deatails Of device\n",
      "Model Name: Iphone14\n",
      "Display size: 6\n",
      "Color: violet\n",
      "Price: 75000\n",
      "Calling.............\n"
     ]
    }
   ],
   "source": [
    "apple = MobileShop(\"Iphone14\",6,\"violet\",75000)\n",
    "\n",
    "apple.DeviceSpecs()\n",
    "apple.call()\n"
   ]
  },
  {
   "cell_type": "code",
   "execution_count": 6,
   "id": "20f9229a",
   "metadata": {},
   "outputs": [
    {
     "name": "stdout",
     "output_type": "stream",
     "text": [
      "Deatails Of device\n",
      "Model Name: moto G2\n",
      "Display size: 6.5\n",
      "Color: Red\n",
      "Price: 70000\n",
      "Messaging..............\n"
     ]
    }
   ],
   "source": [
    "motorola= MobileShop(\"moto G2\",6.5,\"Red\",70000)\n",
    "\n",
    "motorola.DeviceSpecs()\n",
    "motorola.msg()"
   ]
  },
  {
   "cell_type": "code",
   "execution_count": 7,
   "id": "80f24817",
   "metadata": {},
   "outputs": [
    {
     "name": "stdout",
     "output_type": "stream",
     "text": [
      "Deatails Of device\n",
      "Model Name: A7\n",
      "Display size: 5.7\n",
      "Color: Black\n",
      "Price: 77000\n",
      "Playing Games............\n"
     ]
    }
   ],
   "source": [
    "samsung= MobileShop(\"A7\",5.7,\"Black\",77000)\n",
    "\n",
    "samsung.DeviceSpecs()\n",
    "samsung.play_games()"
   ]
  },
  {
   "cell_type": "code",
   "execution_count": null,
   "id": "af1ab994",
   "metadata": {},
   "outputs": [],
   "source": []
  },
  {
   "cell_type": "code",
   "execution_count": null,
   "id": "40144b04",
   "metadata": {},
   "outputs": [],
   "source": []
  }
 ],
 "metadata": {
  "kernelspec": {
   "display_name": "Python 3 (ipykernel)",
   "language": "python",
   "name": "python3"
  },
  "language_info": {
   "codemirror_mode": {
    "name": "ipython",
    "version": 3
   },
   "file_extension": ".py",
   "mimetype": "text/x-python",
   "name": "python",
   "nbconvert_exporter": "python",
   "pygments_lexer": "ipython3",
   "version": "3.9.13"
  },
  "vscode": {
   "interpreter": {
    "hash": "7f9dc718a552478e14f37d36e0ca2ac7de1ac15c04a40a415ea3abc3fe8a0a39"
   }
  }
 },
 "nbformat": 4,
 "nbformat_minor": 5
}
